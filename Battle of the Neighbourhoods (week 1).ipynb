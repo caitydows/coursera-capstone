{
    "cells": [
        {
            "cell_type": "markdown",
            "metadata": {
                "collapsed": true
            },
            "source": "# Introduction"
        },
        {
            "cell_type": "markdown",
            "metadata": {},
            "source": "London is the captial of England and the United Kingdom.  It is not only one of the leading toursim destinations, but London also attacts many foreigners looking to work and start a new life there.  In 2019 there were approximately 6.2 million people with non-British nationality living in the United Kingdom and 9.5 million people who were born abroad. The UK's migrant population is concentrated in London.  Even given these statistics it is always daunting moving to a new city that one knows nothing about.\n\nThis assignment will use data science tools and methodologies to help determine which neighbourhood would be the best in London to open up a new cafe.  One of the aims of this assignment is to create an analysis of features of the different neighbourhoods and choose the best neighbourhood to open a new cafe.\n\nThis information would be beneficial to any entrepreneur looking to open a new cafe in London. It would further be beneficial to anyone that is also looking to immigrate to London as a thorough analysis of the neighbourhoods will be done."
        },
        {
            "cell_type": "markdown",
            "metadata": {},
            "source": "# Data "
        },
        {
            "cell_type": "markdown",
            "metadata": {},
            "source": "There will be two sources from which the data for this assignment will be used.  \n\n#### 1. London data that contains Borough, Neighbourhoods as well as their latitude and longitudes for each postal code\n- Data source: https://www.doogal.co.uk/london_postcodes.php \n- Description: This dataset contains all the required information to properly analyse the different neighbourhoods in London.  This data will be used in conjunction with Foursquare API to decide on the best neighbourhood based on preferences and cafe options\n- Comments: This dataset will have to be cleaned before using, as there are 323306 rows of data and 49 columns and not all the information is relevant.  The following columns will remain in the data:\n    - _Postcode_\n    - _Latitude_\n    - _Longitude_\n    - _County_\n    - _District_ (this is the British name for Borough which will be renamed)\n    - _Ward_ (this is the British name for Neighbourhood which will be renamed)\n    - _Population_:  This field will be beneficial as the restaurateur would like a neighbourhood that has enough people to support the cafe\n    - _Households_: This field will be beneficial like the population field, if not more, as households will ensure that there are adults in the population that will support the cafe \n    - _Nearest station_\n    - _Distance to station_:  This field could be an incentivising factor for a person just moving to a new city as they will not likely have transport of their own\n    - _Average income_: This field would be good to understand the econmic demographic of the neighbourhood to open a new business\n\n\n#### 2. Venue Data using Foursquare \n- For each neighbourhood Foursquare will be able to get information and availability of cafes in the respective neighbourhoods\n- Using the explore function, the most common venue catergories for the neighbourhood will be revealed  \n- The k-means clustering algorithm will be used to group the neighbourhoods into clusters from the explore version\n- Finally, the Python Folium library will be used to visualise the neighbourhoods in London and their clusters"
        },
        {
            "cell_type": "code",
            "execution_count": null,
            "metadata": {},
            "outputs": [],
            "source": ""
        }
    ],
    "metadata": {
        "kernelspec": {
            "display_name": "Python 3.7",
            "language": "python",
            "name": "python3"
        },
        "language_info": {
            "codemirror_mode": {
                "name": "ipython",
                "version": 3
            },
            "file_extension": ".py",
            "mimetype": "text/x-python",
            "name": "python",
            "nbconvert_exporter": "python",
            "pygments_lexer": "ipython3",
            "version": "3.7.9"
        }
    },
    "nbformat": 4,
    "nbformat_minor": 1
}
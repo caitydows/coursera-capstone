{
    "cells": [
        {
            "cell_type": "markdown",
            "metadata": {
                "collapsed": true
            },
            "source": "# Introduction"
        },
        {
            "cell_type": "markdown",
            "metadata": {},
            "source": "London is the captial of England and the United Kingdom.  It is not only one of the leading toursim destinations, but London also attacts many foreigners looking to work and start a new life there.  It is always challenging moving to a new city that one knows nothing about.  \n\nThis assignment will use data science tools and methodologies to help determine which neighbourhood would be the best in London to open up a new cafe.  This information would be beneficial to any entrepreneur looking to open a restaurant in London, or anyone looking at London as a potential place to live."
        },
        {
            "cell_type": "markdown",
            "metadata": {},
            "source": "# Data "
        },
        {
            "cell_type": "markdown",
            "metadata": {},
            "source": "There will be two sources from which the data for this assignment will be used.  \n\n#### 1. London data that contains Borough, Neighbourhoods as well as their latitude and longitudes for each postal code\n- Data source: https://www.doogal.co.uk/london_postcodes.php \n- Description: This dataset contains all the required information to properly analyse the different neighbourhoods in London.  This data will be used in conjunction with Foursquare API to decide on the best neighbourhood based on preferences and cafe options\n- Comments: This dataset will have to be cleaned before using, as there are 323306 rows of data and 49 columns and not all the information is relevant\n\n\n#### 2. Venue Data using Foursquare \n- For each neighbourhood Foursquare will be able to get information and availability of cafes in the respective neighbourhoods"
        },
        {
            "cell_type": "code",
            "execution_count": null,
            "metadata": {},
            "outputs": [],
            "source": ""
        }
    ],
    "metadata": {
        "kernelspec": {
            "display_name": "Python 3.7",
            "language": "python",
            "name": "python3"
        },
        "language_info": {
            "codemirror_mode": {
                "name": "ipython",
                "version": 3
            },
            "file_extension": ".py",
            "mimetype": "text/x-python",
            "name": "python",
            "nbconvert_exporter": "python",
            "pygments_lexer": "ipython3",
            "version": "3.7.9"
        }
    },
    "nbformat": 4,
    "nbformat_minor": 1
}